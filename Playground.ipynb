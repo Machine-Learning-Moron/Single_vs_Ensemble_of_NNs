{
 "cells": [
  {
   "cell_type": "markdown",
   "metadata": {},
   "source": [
    "# Divisions for a deep network\n",
    "---"
   ]
  },
  {
   "cell_type": "markdown",
   "metadata": {},
   "source": [
    "#### Batch Normalization Overhead"
   ]
  },
  {
   "cell_type": "code",
   "execution_count": 3,
   "metadata": {},
   "outputs": [
    {
     "name": "stdout",
     "output_type": "stream",
     "text": [
      "No BN: 15238 || BN: 15336  ||  Ratio: 0.9936098069900887\n",
      "No BN: 174634 || BN: 174892  ||  Ratio: 0.9985248038789653\n"
     ]
    }
   ],
   "source": [
    "# Testing BatchNorm overhead\n",
    "from models.recursives import Conv_Net\n",
    "\n",
    "def count_parameters(net):\n",
    "    pars = 0\n",
    "    for _, parm in net.state_dict().items():\n",
    "        pars += parm.shape.numel()\n",
    "    return pars\n",
    "\n",
    "# For small Network\n",
    "cnn1 = Conv_Net('cnn1', M=12, L=4, normalize=False)\n",
    "cnn2 = Conv_Net('cnn2', M=12, L=4, normalize=True)\n",
    "p1 = count_parameters(cnn1); p2 = count_parameters(cnn2)\n",
    "print('No BN: {} || BN: {}  ||  Ratio: {}'.format(p1, p2, p1/p2))\n",
    "\n",
    "# For deep Network\n",
    "cnn1 = Conv_Net('cnn1', M=32, L=16, normalize=False)\n",
    "cnn2 = Conv_Net('cnn2', M=32, L=16, normalize=True)\n",
    "p1 = count_parameters(cnn1); p2 = count_parameters(cnn2)\n",
    "print('No BN: {} || BN: {}  ||  Ratio: {}'.format(p1, p2, p1/p2))\n",
    "\n",
    "## We won't take into account these parameters from now on"
   ]
  },
  {
   "cell_type": "markdown",
   "metadata": {},
   "source": [
    "#### The Single Deep NN is defined below\n",
    "![](images/network.png)"
   ]
  },
  {
   "cell_type": "code",
   "execution_count": 42,
   "metadata": {},
   "outputs": [
    {
     "name": "stdout",
     "output_type": "stream",
     "text": [
      "M = 32, L = 16\n",
      "174634\n"
     ]
    }
   ],
   "source": [
    "class Net:\n",
    "    '''\n",
    "    Calculate Network Parameters defined by given filters (M) and layers (L)\n",
    "    Assumptions: Input=32x32 Output=10\n",
    "    '''\n",
    "    def __init__(self,M,L):\n",
    "        self.M = M\n",
    "        self.L = L\n",
    "    \n",
    "    def V(self):\n",
    "        return 8*8*3*self.M\n",
    "    \n",
    "    def W(self):\n",
    "        return (3*3*self.M*self.M*self.L) + (self.M*(self.L+1))\n",
    "\n",
    "    def C(self):\n",
    "        return (64*self.M*10) + 10\n",
    "    \n",
    "    def total(self):\n",
    "        return self.V() + self.W() + self.C()\n",
    "    \n",
    "K = 4\n",
    "L = 16\n",
    "M = 32\n",
    "S = Net(M = M, L = L)\n",
    "print('M = {}, L = {}'.format(M, L))\n",
    "print(S.total())"
   ]
  },
  {
   "cell_type": "code",
   "execution_count": 43,
   "metadata": {},
   "outputs": [
    {
     "data": {
      "text/plain": [
       "'\\nimport matplotlib.pyplot as plt\\nfrom matplotlib.patches import Rectangle\\nnet = Rectangle(xy=(0,0),width=L, height=M)\\nfig, (ax1, ax2) = plt.subplots(nrows=1, ncols=2)\\nax1.add_patch(Rectangle((0,0), L, M,alpha=1))\\nplt.show()\\n'"
      ]
     },
     "execution_count": 43,
     "metadata": {},
     "output_type": "execute_result"
    }
   ],
   "source": [
    "'''\n",
    "import matplotlib.pyplot as plt\n",
    "from matplotlib.patches import Rectangle\n",
    "net = Rectangle(xy=(0,0),width=L, height=M)\n",
    "fig, (ax1, ax2) = plt.subplots(nrows=1, ncols=2)\n",
    "ax1.add_patch(Rectangle((0,0), L, M,alpha=1))\n",
    "plt.show()\n",
    "'''"
   ]
  },
  {
   "cell_type": "markdown",
   "metadata": {},
   "source": [
    "### A - Horizontal Division\n",
    "\n",
    "In horizontal division, the number of filters is reduced to accomodate more networks to the ensemble.  \n",
    "\n",
    "We distinguish two possible ways of performing HD:\n",
    "\n",
    "##### A1 - Plain HD\n",
    "The depth is maintained `Le = L` => Calculate `Me | K` or calculate `K | Me` (read `K given Me`).\n",
    "\n",
    "![](images/divisions/A1_horizontal.png)\n"
   ]
  },
  {
   "cell_type": "code",
   "execution_count": 44,
   "metadata": {},
   "outputs": [],
   "source": [
    "# A1: Get the value of M keeping L the same as the deep network:\n",
    "def getM(S,K):\n",
    "    ensemble_network = Net(M = 1, L = S.L)\n",
    "    budget = S.total()/K\n",
    "    if K == 1:\n",
    "        return S.M\n",
    "        \n",
    "    for M in range(S.M):\n",
    "        ensemble_network.M = M\n",
    "        if ensemble_network.total() > budget:\n",
    "            return M-1"
   ]
  },
  {
   "cell_type": "markdown",
   "metadata": {},
   "source": [
    "##### A2 - Conditioned HD\n",
    "The depth is given `Le` => Calculate `Me` given `(K, Le)` or calculate `K` given `(Me, Le)`.  \n",
    "There are 2 possibilities: \n",
    "- A21: `Le < L` => Makes sense if calculate `K|Me,Le`, we create shallower nets to allow bigger ensemble size\n",
    "- A22: `Le > L` => \n",
    "\n",
    "![](images/divisions/A2_conditioned_horizontal.png)"
   ]
  },
  {
   "cell_type": "code",
   "execution_count": 29,
   "metadata": {},
   "outputs": [],
   "source": [
    "# A2: Get the value of M given an L different from the deep network:\n",
    "def getM_L(S,K,L):\n",
    "    ensemble_network = Net(M = 1, L = L)\n",
    "    budget = S.total()/K\n",
    "\n",
    "    # sweep M\n",
    "    for M in range(S.M):\n",
    "        ensemble_network.M = M\n",
    "        if ensemble_network.total() == budget:\n",
    "            return M\n",
    "        if ensemble_network.total() > budget:\n",
    "            return M-1\n",
    "    return -1"
   ]
  },
  {
   "cell_type": "markdown",
   "metadata": {},
   "source": [
    "### Horizontal Division Implementation"
   ]
  },
  {
   "cell_type": "code",
   "execution_count": 45,
   "metadata": {},
   "outputs": [
    {
     "name": "stdout",
     "output_type": "stream",
     "text": [
      "Me = 14, Le = 16, K = 4\n"
     ]
    }
   ],
   "source": [
    "## A: HORIZONTAL DIVISION: Fix L, K --> Divide M \n",
    "Le = S.L\n",
    "Me = getM(S, K=4)\n",
    "Ek = Net(M = Me, L=Le)\n",
    "print('Me = {}, Le = {}, K = {}'.format(Me, Le, K))          \n",
    "print(S.total() / Ek.total())"
   ]
  },
  {
   "cell_type": "code",
   "execution_count": 46,
   "metadata": {},
   "outputs": [
    {
     "name": "stdout",
     "output_type": "stream",
     "text": [
      "Me = 13, Le = 20, K = 4\n",
      "4.206122498133385\n"
     ]
    }
   ],
   "source": [
    "## A11: CONDITIONED HORIZONTAL DIVISION: Fix K, Choose L --> Divide M\n",
    "Le = 20\n",
    "Me = getM_L(S, L=Le, K=4)\n",
    "Ek = Net(M = Me, L = Le)\n",
    "print('Me = {}, Le = {}, K = {}'.format(Me, Le, K))\n",
    "print(S.total() / Ek.total())"
   ]
  },
  {
   "cell_type": "code",
   "execution_count": 47,
   "metadata": {},
   "outputs": [
    {
     "name": "stdout",
     "output_type": "stream",
     "text": [
      "Me = 25, Le = 4, K = 4\n",
      "4.020582479567169\n"
     ]
    }
   ],
   "source": [
    "## A11: CONDITIONED HORIZONTAL DIVISION: Fix K, Choose L --> Divide M\n",
    "Le = 4\n",
    "Me = getM_L(S, L=Le, K=4)\n",
    "Ek = Net(M = Me, L = Le)\n",
    "print('Me = {}, Le = {}, K = {}'.format(Me, Le, K))\n",
    "print(S.total() / Ek.total())"
   ]
  },
  {
   "cell_type": "markdown",
   "metadata": {},
   "source": [
    "### B - Vertical Division\n",
    "\n",
    "In vertical division, the number of layers is modify to accomadate more networks.  \n",
    "We distinguish 2 ways of doing vertical division\n",
    "\n",
    "##### B1 - Plain VD\n",
    "The filters are maintained `Me = M` => Calculate `Le | K` or calculate `K | Le`\n",
    "\n",
    "![](images/divisions/B1_vertical.png)\n"
   ]
  },
  {
   "cell_type": "code",
   "execution_count": 48,
   "metadata": {},
   "outputs": [],
   "source": [
    "# Get the value of L keeping M the same as the deep network:\n",
    "def getL(S,K):\n",
    "    ensemble_network = Net(M = 1, L = S.L)\n",
    "    budget = S.total()/K\n",
    "    print(\"Budget: \" + str(budget))\n",
    "    for L in range(S.L):\n",
    "        ensemble_network.L = L\n",
    "        if ensemble_network.total() > budget:\n",
    "            return L-1\n",
    "    return L  ## TODO: M=1 is allowing to have Le > L for k=4 and returns None"
   ]
  },
  {
   "cell_type": "markdown",
   "metadata": {},
   "source": [
    "##### B2 - Conditioned CD\n",
    "The filters are given `Me` => Calculate `Le` given `(K, Me)` or calculate `K` given `(Me, Le)`.  \n",
    "There are 2 possibilities: \n",
    "- B21: `Me < M` => *When is this one preferable?*\n",
    "- B22: `Me > M` => *When is this one preferable?*\n",
    "\n",
    "![](images/divisions/B2_conditioned_vertical.png)"
   ]
  },
  {
   "cell_type": "code",
   "execution_count": 49,
   "metadata": {},
   "outputs": [],
   "source": [
    "# Get the value of L keeping given an M different from the deep network:\n",
    "def getL_M(S,K,M):\n",
    "    ensemble_network = Net(M = M , L = S.L)\n",
    "    budget = S.total()/K\n",
    "    \n",
    "    for L in range(S.L):\n",
    "        ensemble_network.L = L\n",
    "        if ensemble_network.total() == budget:\n",
    "            return L\n",
    "        if ensemble_network.total() > budget:\n",
    "            return L-1\n",
    "    return -1"
   ]
  },
  {
   "cell_type": "code",
   "execution_count": 51,
   "metadata": {},
   "outputs": [
    {
     "name": "stdout",
     "output_type": "stream",
     "text": [
      "Budget: 43658.5\n",
      "Me = 32, Le = 15, K = 4\n",
      "1.0559176713869372\n"
     ]
    }
   ],
   "source": [
    "## B1: VERTICAL DIVISION: Fix M, K --> Divide L\n",
    "Me = S.M\n",
    "Le = getL(S, K = 4)\n",
    "Ek = Net(M = Me, L = Le)\n",
    "print('Me = {}, Le = {}, K = {}'.format(Me, Le, K))\n",
    "print(S.total() / Ek.total())"
   ]
  },
  {
   "cell_type": "code",
   "execution_count": 52,
   "metadata": {},
   "outputs": [
    {
     "name": "stdout",
     "output_type": "stream",
     "text": [
      "Me = 16, Le = 13, K = 4\n",
      "4.014759299278127\n"
     ]
    }
   ],
   "source": [
    "## B21: CONDITIONED VERICAL DIVISION: Fix K, Choose M --> Divide L\n",
    "Me = 16\n",
    "Le = getL_M(S = S, M = Me, K = 4)\n",
    "Ek = Net(M = Me, L = Le)\n",
    "print('Me = {}, Le = {}, K = {}'.format(Me, Le, K))\n",
    "print(S.total() / Ek.total())"
   ]
  },
  {
   "cell_type": "code",
   "execution_count": 54,
   "metadata": {},
   "outputs": [
    {
     "name": "stdout",
     "output_type": "stream",
     "text": [
      "Me = 48, Le = 0, K = 4\n",
      "4.366504975746362\n"
     ]
    }
   ],
   "source": [
    "## B22: CONDITIONED VERICAL DIVISION: Fix K, Choose M --> Divide L\n",
    "Me = 48\n",
    "Le = getL_M(S = S, M = Me, K = 4)\n",
    "Ek = Net(M = Me, L = Le)\n",
    "print('Me = {}, Le = {}, K = {}'.format(Me, Le, K))         ## Le is going to zero and less!!\n",
    "print(S.total() / Ek.total())"
   ]
  },
  {
   "cell_type": "markdown",
   "metadata": {},
   "source": [
    "### C - Recursive Division\n",
    "![](images/divisions/C_recursive.png)"
   ]
  },
  {
   "cell_type": "code",
   "execution_count": 55,
   "metadata": {},
   "outputs": [
    {
     "name": "stdout",
     "output_type": "stream",
     "text": [
      "Me = 32, Le = 1, K = 4\n"
     ]
    }
   ],
   "source": [
    "## CA: RECURSIVE: Fix Le = 1, Choose M --> Calculate Ensemble Size allowed\n",
    "Le = 1\n",
    "Me = S.M\n",
    "Ek = Net(M = Me, L = Le)\n",
    "print('Me = {}, Le = {}, K = {}'.format(Me, Le, K))"
   ]
  },
  {
   "cell_type": "code",
   "execution_count": 56,
   "metadata": {},
   "outputs": [
    {
     "name": "stdout",
     "output_type": "stream",
     "text": [
      "Me = 27, Le = 1, K = 6\n"
     ]
    }
   ],
   "source": [
    "## CA: RECURSIVE: Fix Le = 1, Choose K --> Calculate Me allowed to use\n",
    "K = 6\n",
    "Le = 1\n",
    "Me = getM_L(S, L=Le, K=K)\n",
    "Ek = Net(M = Me, L = Le)\n",
    "print('Me = {}, Le = {}, K = {}'.format(Me, Le, K))           ## Le is going to 0 or less!"
   ]
  },
  {
   "cell_type": "code",
   "execution_count": null,
   "metadata": {},
   "outputs": [],
   "source": []
  },
  {
   "cell_type": "code",
   "execution_count": null,
   "metadata": {},
   "outputs": [],
   "source": []
  }
 ],
 "metadata": {
  "kernelspec": {
   "display_name": "Python 3",
   "language": "python",
   "name": "python3"
  },
  "language_info": {
   "codemirror_mode": {
    "name": "ipython",
    "version": 3
   },
   "file_extension": ".py",
   "mimetype": "text/x-python",
   "name": "python",
   "nbconvert_exporter": "python",
   "pygments_lexer": "ipython3",
   "version": "3.7.2"
  },
  "varInspector": {
   "cols": {
    "lenName": 16,
    "lenType": 16,
    "lenVar": 40
   },
   "kernels_config": {
    "python": {
     "delete_cmd_postfix": "",
     "delete_cmd_prefix": "del ",
     "library": "var_list.py",
     "varRefreshCmd": "print(var_dic_list())"
    },
    "r": {
     "delete_cmd_postfix": ") ",
     "delete_cmd_prefix": "rm(",
     "library": "var_list.r",
     "varRefreshCmd": "cat(var_dic_list()) "
    }
   },
   "types_to_exclude": [
    "module",
    "function",
    "builtin_function_or_method",
    "instance",
    "_Feature"
   ],
   "window_display": false
  }
 },
 "nbformat": 4,
 "nbformat_minor": 2
}
