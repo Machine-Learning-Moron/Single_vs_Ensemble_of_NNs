{
 "cells": [
  {
   "cell_type": "code",
   "execution_count": 6,
   "metadata": {},
   "outputs": [
    {
     "name": "stdout",
     "output_type": "stream",
     "text": [
      "User:  ['pablorr']\n",
      "Conda env:  ['/n/home01/pablorr/.conda/envs/torch37/bin/python']\n",
      "Python version:  ['Python 3.7.0']\n",
      "Cuda module:  ['cuda: /usr/local/cuda']\n"
     ]
    },
    {
     "data": {
      "text/plain": [
       "['nvcc: NVIDIA (R) Cuda compiler driver',\n",
       " 'Copyright (c) 2005-2017 NVIDIA Corporation',\n",
       " 'Built on Fri_Sep__1_21:08:03_CDT_2017',\n",
       " 'Cuda compilation tools, release 9.0, V9.0.176']"
      ]
     },
     "execution_count": 6,
     "metadata": {},
     "output_type": "execute_result"
    }
   ],
   "source": [
    "me = !whoami\n",
    "env = !which python\n",
    "pyv = !python -V\n",
    "cuda = !whereis cuda  \n",
    "cuda_version = !nvcc --version\n",
    "print('User: ', me)\n",
    "print('Conda env: ', env)\n",
    "print('Python version: ', pyv)\n",
    "print('Cuda module: ', cuda)\n",
    "cuda_version"
   ]
  },
  {
   "cell_type": "code",
   "execution_count": 9,
   "metadata": {},
   "outputs": [
    {
     "name": "stdout",
     "output_type": "stream",
     "text": [
      "              total        used        free      shared  buff/cache   available\r\n",
      "Mem:             94           2          79           0          12          89\r\n",
      "Swap:             0           0           0\r\n"
     ]
    }
   ],
   "source": [
    "!free -g"
   ]
  },
  {
   "cell_type": "code",
   "execution_count": 10,
   "metadata": {},
   "outputs": [],
   "source": [
    "x = 5"
   ]
  },
  {
   "cell_type": "code",
   "execution_count": null,
   "metadata": {},
   "outputs": [],
   "source": []
  }
 ],
 "metadata": {
  "kernelspec": {
   "display_name": "Python 3",
   "language": "python",
   "name": "python3"
  },
  "language_info": {
   "codemirror_mode": {
    "name": "ipython",
    "version": 3
   },
   "file_extension": ".py",
   "mimetype": "text/x-python",
   "name": "python",
   "nbconvert_exporter": "python",
   "pygments_lexer": "ipython3",
   "version": "3.6.3"
  }
 },
 "nbformat": 4,
 "nbformat_minor": 2
}
