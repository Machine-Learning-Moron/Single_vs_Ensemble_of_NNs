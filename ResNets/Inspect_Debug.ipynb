{
 "cells": [
  {
   "cell_type": "code",
   "execution_count": 14,
   "metadata": {},
   "outputs": [
    {
     "name": "stdout",
     "output_type": "stream",
     "text": [
      "User:  ['pablorr']\n",
      "Conda env:  ['/n/home01/pablorr/.conda/envs/torch37/bin/python']\n",
      "Cuda module:  ['cuda:']\n",
      "Cuda version:  ['nvcc: NVIDIA (R) Cuda compiler driver', 'Copyright (c) 2005-2017 NVIDIA Corporation', 'Built on Fri_Sep__1_21:08:03_CDT_2017', 'Cuda compilation tools, release 9.0, V9.0.176']\n"
     ]
    }
   ],
   "source": [
    "me = !whoami\n",
    "env = !which python\n",
    "cuda = !whereis cuda  \n",
    "cuda_version = !nvcc --version\n",
    "print('User: ', me)\n",
    "print('Conda env: ', env)\n",
    "print('Cuda module: ', cuda)\n",
    "print('Cuda version: ', cuda_version)"
   ]
  },
  {
   "cell_type": "code",
   "execution_count": null,
   "metadata": {},
   "outputs": [],
   "source": []
  },
  {
   "cell_type": "code",
   "execution_count": null,
   "metadata": {},
   "outputs": [],
   "source": []
  }
 ],
 "metadata": {
  "kernelspec": {
   "display_name": "Python 3",
   "language": "python",
   "name": "python3"
  },
  "language_info": {
   "codemirror_mode": {
    "name": "ipython",
    "version": 3
   },
   "file_extension": ".py",
   "mimetype": "text/x-python",
   "name": "python",
   "nbconvert_exporter": "python",
   "pygments_lexer": "ipython3",
   "version": "3.7.0"
  }
 },
 "nbformat": 4,
 "nbformat_minor": 2
}
